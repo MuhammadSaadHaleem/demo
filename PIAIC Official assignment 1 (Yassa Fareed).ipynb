{
 "cells": [
  {
   "cell_type": "markdown",
   "metadata": {},
   "source": [
    "## 1. Calculate Area of a Circle"
   ]
  },
  {
   "cell_type": "markdown",
   "metadata": {},
   "source": [
    "#### Write a Python program which accepts the radius of a circle from the user and compute the area.\n",
    "###### Program Console Sample Output 1:\n",
    "###### Input Radius: 0.5\n",
    "###### Area of Circle with radius 0.5 is 0.7853981634"
   ]
  },
  {
   "cell_type": "code",
   "execution_count": 2,
   "metadata": {},
   "outputs": [
    {
     "name": "stdout",
     "output_type": "stream",
     "text": [
      "Enter the radius of the circle :0.5\n",
      "radius of circle is 0.7853981633974483\n"
     ]
    }
   ],
   "source": [
    "from math import pi\n",
    "a=float(input('Enter the radius of the circle :'))\n",
    "answer=a*a*pi\n",
    "print(f\"radius of circle is {answer}\")"
   ]
  },
  {
   "cell_type": "markdown",
   "metadata": {},
   "source": [
    "## 2. Check Number either positive, negative or zero"
   ]
  },
  {
   "cell_type": "markdown",
   "metadata": {},
   "source": [
    "#### Write a Python program to check if a number is positive, negative or zero\n",
    "###### Program Console Sample Output 1:\n",
    "###### Enter Number: -1\n",
    "##### Negative Number Entered\n",
    "###### Program Console Sample Output 2:\n",
    "##### Integer: 3\n",
    "##### Positive Number Entered\n",
    "###### Program Console Sample Output 3:\n",
    "##### Integer: 0\n",
    "###### Zero Entered"
   ]
  },
  {
   "cell_type": "code",
   "execution_count": 5,
   "metadata": {},
   "outputs": [
    {
     "name": "stdout",
     "output_type": "stream",
     "text": [
      "Enter the number :-1\n",
      "Negative Number Entered\n"
     ]
    }
   ],
   "source": [
    "a=int(input('Enter the number :'))\n",
    "if a>0:\n",
    "    print('Positive Number Entered')\n",
    "elif a<0:\n",
    "    print('Negative Number Entered')\n",
    "elif a==0:\n",
    "    print('Zero Entered')\n",
    "\n"
   ]
  },
  {
   "cell_type": "code",
   "execution_count": 6,
   "metadata": {},
   "outputs": [
    {
     "name": "stdout",
     "output_type": "stream",
     "text": [
      "Enter the number :3\n",
      "Positive Number Entered\n"
     ]
    }
   ],
   "source": [
    "a=int(input('Enter the number :'))\n",
    "if a>0:\n",
    "    print('Positive Number Entered')\n",
    "elif a<0:\n",
    "    print('Negative Number Entered')\n",
    "elif a==0:\n",
    "    print('Zero Entered')"
   ]
  },
  {
   "cell_type": "code",
   "execution_count": 4,
   "metadata": {},
   "outputs": [
    {
     "name": "stdout",
     "output_type": "stream",
     "text": [
      "Enter the number :0\n",
      "Zero Entered\n"
     ]
    }
   ],
   "source": [
    "a=int(input('Enter the number :'))\n",
    "if a>0:\n",
    "    print('Positive Number Entered')\n",
    "elif a<0:\n",
    "    print('Negative Number Entered')\n",
    "elif a==0:\n",
    "    print('Zero Entered')"
   ]
  },
  {
   "cell_type": "markdown",
   "metadata": {},
   "source": [
    "## 3. Divisibility Check of two numbers"
   ]
  },
  {
   "cell_type": "markdown",
   "metadata": {},
   "source": [
    "#### Write a Python program to check whether a number is completely divisible by another number. Accept two integer values form the user\n",
    "##### Program Console Sample Output 1:\n",
    "###### Enter numerator: 4\n",
    "###### Enter Denominator: 2\n",
    "##### Number 4 is Completely divisible by 2\n",
    "###### Program Console Sample Output 2:\n",
    "##### Enter numerator: 7\n",
    "\n",
    "##### Enter Denominator: 4\n",
    "###### Number 7 is not Completely divisible by 4"
   ]
  },
  {
   "cell_type": "code",
   "execution_count": 9,
   "metadata": {},
   "outputs": [
    {
     "name": "stdout",
     "output_type": "stream",
     "text": [
      "Enter numerator :8\n",
      "Enter Denominator :2\n",
      "Number 8 is Completely divisible by 2\n"
     ]
    }
   ],
   "source": [
    "num1=int(input('Enter numerator :'))\n",
    "num2=int(input('Enter Denominator :'))\n",
    "if num1%num2==0:\n",
    "    print(f\"Number {num1} is Completely divisible by {num2}\")\n",
    "else :\n",
    "    print(f\"Number {num1} is not Completely divisible by {num2}\")"
   ]
  },
  {
   "cell_type": "code",
   "execution_count": 10,
   "metadata": {},
   "outputs": [
    {
     "name": "stdout",
     "output_type": "stream",
     "text": [
      "Enter numerator :6\n",
      "Enter Denominator :5\n",
      "Number 6 is not Completely divisible by 5\n"
     ]
    }
   ],
   "source": [
    "num1=int(input('Enter numerator :'))\n",
    "num2=int(input('Enter Denominator :'))\n",
    "if num1/num2==0:\n",
    "    print(f\"Number {num1} is Completely divisible by {num2}\")\n",
    "else :\n",
    "    print(f\"Number {num1} is not Completely divisible by {num2}\")"
   ]
  },
  {
   "cell_type": "markdown",
   "metadata": {},
   "source": [
    "## 4. Calculate Volume of a sphere"
   ]
  },
  {
   "cell_type": "markdown",
   "metadata": {},
   "source": [
    "##### Write a Python program to get the volume of a sphere, please take the radius as input from user"
   ]
  },
  {
   "cell_type": "markdown",
   "metadata": {},
   "source": [
    "##### Program Console Output:\n",
    "##### Enter Radius of Sphere: 1\n",
    "###### Volume of the Sphere with Radius 1 is 4.18"
   ]
  },
  {
   "cell_type": "code",
   "execution_count": 17,
   "metadata": {},
   "outputs": [
    {
     "name": "stdout",
     "output_type": "stream",
     "text": [
      "Enter Radius of Sphere :1\n",
      "Volume of Sphere with Radius 1.0 is  4.1887902047863905\n"
     ]
    }
   ],
   "source": [
    "from math import pi\n",
    "radius=float(input('Enter Radius of Sphere :'))\n",
    "volume=pi*radius*radius*radius*(4/3)\n",
    "print(f\"Volume of Sphere with Radius {radius} is  {volume}\")"
   ]
  },
  {
   "cell_type": "markdown",
   "metadata": {},
   "source": [
    "## 5. Copy string n times\n",
    "#### Write a Python program to get a string which is n (non-negative integer) copies of a given string.\n",
    "##### Program Console Output:\n",
    "##### Enter String: Hi\n",
    "###### How many copies of String you need: 4\n",
    "###### 4 Copies of Hi are HiHiHiHi"
   ]
  },
  {
   "cell_type": "code",
   "execution_count": 24,
   "metadata": {},
   "outputs": [
    {
     "name": "stdout",
     "output_type": "stream",
     "text": [
      "Enter String :Bye\n",
      "How many copies of String you need :4\n",
      "4 copies of Bye are ByeByeByeBye\n"
     ]
    }
   ],
   "source": [
    "string=str(input('Enter String :'))\n",
    "times=int(input('How many copies of String you need :'))\n",
    "answer=string*times\n",
    "print(f\"{times} copies of {string} are {answer}\")\n"
   ]
  },
  {
   "cell_type": "markdown",
   "metadata": {},
   "source": [
    "## 6. Check if number is Even or Odd\n",
    "### Write a Python program to find whether a given number (accept from the user) is even or odd, print out an appropriate message to the user\n",
    "#### Program Console Output 1:\n",
    "##### Enter Number: 4\n",
    "###### 4 is Even\n",
    "#### Program Console Output 2:\n",
    "##### Enter Number: 9\n",
    "###### 9 is Odd"
   ]
  },
  {
   "cell_type": "code",
   "execution_count": 26,
   "metadata": {},
   "outputs": [
    {
     "name": "stdout",
     "output_type": "stream",
     "text": [
      "Enter Number :6\n",
      "6 is Even\n"
     ]
    }
   ],
   "source": [
    "num=int(input('Enter Number :'))\n",
    "if num%2==0:\n",
    "    print(f\"{num} is Even\")\n",
    "else:\n",
    "    print(f\"{num} is Odd\")"
   ]
  },
  {
   "cell_type": "code",
   "execution_count": 27,
   "metadata": {},
   "outputs": [
    {
     "name": "stdout",
     "output_type": "stream",
     "text": [
      "Enter Number :5\n",
      "5 is Odd\n"
     ]
    }
   ],
   "source": [
    "num=int(input('Enter Number :'))\n",
    "if num%2==0:\n",
    "    print(f\"{num} is Even\")\n",
    "else:\n",
    "    print(f\"{num} is Odd\")"
   ]
  },
  {
   "cell_type": "markdown",
   "metadata": {},
   "source": [
    "## 7. Vowel Tester\n",
    "### Write a Python program to test whether a passed letter is a vowel or not\n",
    "#### Program Console Output 1:\n",
    "##### Enter a character: A\n",
    "###### Letter A is Vowel\n",
    "#### Program Console Output 2:\n",
    "##### Enter a character: e\n",
    "###### Letter e is Vowel\n",
    "#### Program Console Output 2:\n",
    "##### Enter a character: N\n",
    "###### Letter N is not Vowel"
   ]
  },
  {
   "cell_type": "code",
   "execution_count": 39,
   "metadata": {},
   "outputs": [
    {
     "name": "stdout",
     "output_type": "stream",
     "text": [
      "Enter a character :A\n",
      "Letter A is Vowel\n"
     ]
    }
   ],
   "source": [
    "alphabet=input('Enter a character :')\n",
    "if alphabet=='a' or alphabet=='e' or alphabet=='i' or alphabet=='o' or alphabet=='u' or alphabet=='A' or alphabet=='E' or alphabet=='I' or alphabet=='O' or alphabet=='U':\n",
    "    print(f'Letter {alphabet} is Vowel')\n",
    "else:\n",
    "    print(f'Letter {alphabet} is not Vowel')"
   ]
  },
  {
   "cell_type": "code",
   "execution_count": 40,
   "metadata": {},
   "outputs": [
    {
     "name": "stdout",
     "output_type": "stream",
     "text": [
      "Enter a character :e\n",
      "Letter e is Vowel\n"
     ]
    }
   ],
   "source": [
    "alphabet=input('Enter a character :')\n",
    "if alphabet=='a' or alphabet=='e' or alphabet=='i' or alphabet=='o' or alphabet=='u' or alphabet=='A' or alphabet=='E' or alphabet=='I' or alphabet=='O' or alphabet=='U':\n",
    "    print(f'Letter {alphabet} is Vowel')\n",
    "else:\n",
    "    print(f'Letter {alphabet} is not Vowel')"
   ]
  },
  {
   "cell_type": "code",
   "execution_count": 42,
   "metadata": {},
   "outputs": [
    {
     "name": "stdout",
     "output_type": "stream",
     "text": [
      "Enter a character :F\n",
      "Letter F is not Vowel\n"
     ]
    }
   ],
   "source": [
    "alphabet=input('Enter a character :')\n",
    "if alphabet=='a' or alphabet=='e' or alphabet=='i' or alphabet=='o' or alphabet=='u' or alphabet=='A' or alphabet=='E' or alphabet=='I' or alphabet=='O' or alphabet=='U':\n",
    "    print(f'Letter {alphabet} is Vowel')\n",
    "else:\n",
    "    print(f'Letter {alphabet} is not Vowel')"
   ]
  },
  {
   "cell_type": "markdown",
   "metadata": {},
   "source": [
    "## 8. Triangle area\n",
    "### Write a Python program that will accept the base and height of a triangle and compute the area\n",
    "###### Reference:\n",
    "https://www.mathgoodies.com/lessons/vol1/area_triangle"
   ]
  },
  {
   "cell_type": "code",
   "execution_count": 45,
   "metadata": {},
   "outputs": [
    {
     "name": "stdout",
     "output_type": "stream",
     "text": [
      "Enter Base :8\n",
      "Enter height :5\n",
      "Area = 20.0\n"
     ]
    }
   ],
   "source": [
    "base=float(input(\"Enter Base :\"))\n",
    "height=float(input(\"Enter height :\"))\n",
    "area=(1/2)*base*height\n",
    "print(f\"Area = {area}\")"
   ]
  },
  {
   "cell_type": "markdown",
   "metadata": {},
   "source": [
    "## 9. Calculate Interest\n",
    "### Write a Python program to compute the future value of a specified principal amount, rate of interest, and a number of years\n",
    "#### Program Console Sample 1:\n",
    "##### Please enter principal amount: 10000\n",
    "###### Please Enter Rate of interest in %: 0.1\n",
    "###### Enter number of years for investment: 5\n",
    "###### After 5 years your principal amount 10000 over an interest rate of 0.1 % will be 16105.1"
   ]
  },
  {
   "cell_type": "code",
   "execution_count": 1,
   "metadata": {},
   "outputs": [
    {
     "name": "stdout",
     "output_type": "stream",
     "text": [
      "Enter principal amount: 5000\n",
      "Enter rate interest in %: 0.1\n",
      "Enter number of years for investment: 6\n",
      "After 6 years your principal amount 5000 over an interst rate of 0.1 % will be 5030.1\n"
     ]
    }
   ],
   "source": [
    "amount=int(input(\"Enter principal amount: \"))\n",
    "interest=float(input(\"Enter rate interest in %: \"))\n",
    "years=int(input(\"Enter number of years for investment: \"))\n",
    "future_value = round(amount*(1+interest/100)**years,1)\n",
    "print(f'After {years} years your principal amount {amount} over an interst rate of {interest} % will be {future_value}')"
   ]
  },
  {
   "cell_type": "markdown",
   "metadata": {},
   "source": [
    "## 10. Euclidean distance\n",
    "### write a Python program to compute the distance between the points (x1, y1) and (x2, y2).\n",
    "#### Program Console Sample 1:\n",
    "###### Enter Co-ordinate for x1: 2\n",
    "###### Enter Co-ordinate for x2: 4\n",
    "###### Enter Co-ordinate for y1: 4\n",
    "###### Enter Co-ordinate for y2: 4\n",
    "###### Distance between points (2, 4) and (4, 4) is 2"
   ]
  },
  {
   "cell_type": "markdown",
   "metadata": {},
   "source": [
    "###### Reference:\n",
    "https://en.wikipedia.org/wiki/Euclidean_distance"
   ]
  },
  {
   "cell_type": "code",
   "execution_count": 6,
   "metadata": {},
   "outputs": [
    {
     "name": "stdout",
     "output_type": "stream",
     "text": [
      "Enter Co-ordinate for x1 :4\n",
      "Enter Co-ordinate for x2 :2\n",
      "Enter Co-ordinate for y1 :5\n",
      "Enter Co-ordinate for y2 :1\n",
      "Distance between points (4,5) and (2,1) is 4.47\n"
     ]
    }
   ],
   "source": [
    "x1=int(input('Enter Co-ordinate for x1 :'))\n",
    "x2=int(input('Enter Co-ordinate for x2 :'))\n",
    "y1=int(input('Enter Co-ordinate for y1 :'))\n",
    "y2=int(input('Enter Co-ordinate for y2 :'))\n",
    "distance=round(((y2-y1)**2+(x2-x1)**2)**0.5,2)\n",
    "print(f'Distance between points ({x1},{y1}) and ({x2},{y2}) is {distance}')"
   ]
  },
  {
   "cell_type": "markdown",
   "metadata": {},
   "source": [
    "## 11. Feet to Centimeter Converter\n",
    "### Write a Python program to convert height in feet to centimetres.\n",
    "##### Program Console Sample 1:\n",
    "###### Enter Height in Feet: 5\n",
    "###### There are 152.4 Cm in 5 ft\n",
    "###### Reference:\n",
    "https://www.rapidtables.com/convert/length/feet-to-cm.html"
   ]
  },
  {
   "cell_type": "code",
   "execution_count": 10,
   "metadata": {},
   "outputs": [
    {
     "name": "stdout",
     "output_type": "stream",
     "text": [
      "Enter height in Feet :5\n",
      "There are 152.4 Cm in 5.0 ft\n"
     ]
    }
   ],
   "source": [
    "height_feet=float(input('Enter height in Feet :'))\n",
    "height_cm=float(round(height_feet*30.48,1))\n",
    "print(f\"There are {height_cm} Cm in {height_feet} ft\")\n"
   ]
  },
  {
   "cell_type": "markdown",
   "metadata": {},
   "source": [
    "## 12. BMI Calculator\n",
    "### Write a Python program to calculate body mass index\n",
    "##### Program Console Sample 1:\n",
    "###### Enter Height in Cm: 180\n",
    "###### Enter Weight in Kg: 75\n",
    "###### Your BMI is 23.15"
   ]
  },
  {
   "cell_type": "code",
   "execution_count": 11,
   "metadata": {},
   "outputs": [
    {
     "name": "stdout",
     "output_type": "stream",
     "text": [
      "Enter Height in Cm :180\n",
      "Enter Weight in Kg :75\n",
      "Your BMI is 23.15\n"
     ]
    }
   ],
   "source": [
    "height_cm=float(input(\"Enter Height in Cm :\"))\n",
    "Weight_kg=float(input(\"Enter Weight in Kg :\"))\n",
    "Bmi=round(Weight_kg/(height_cm/100)**2,2)\n",
    "print(f\"Your BMI is {Bmi}\")"
   ]
  },
  {
   "cell_type": "markdown",
   "metadata": {},
   "source": [
    "## 13. Sum of n Positive Integers\n",
    "### Write a python program to sum of the first n positive integers\n",
    "#### Program Console Sample 1:\n",
    "###### Enter value of n: 5\n",
    "###### Sum of n Positive integers till 5 is 15"
   ]
  },
  {
   "cell_type": "code",
   "execution_count": 12,
   "metadata": {},
   "outputs": [
    {
     "name": "stdout",
     "output_type": "stream",
     "text": [
      "Enter value of n:5\n",
      "Sum of n Positive integers till 5 is 15\n"
     ]
    }
   ],
   "source": [
    "value=int(input('Enter value of n:'))\n",
    "sum=0\n",
    "for num in range(0,value+1):\n",
    "    sum+=num\n",
    "print(f'Sum of n Positive integers till {value} is {sum}')"
   ]
  },
  {
   "cell_type": "markdown",
   "metadata": {},
   "source": [
    "## 14. Digits Sum of a Number\n",
    "### Write a Python program to calculate the sum of the digits in an integer\n",
    "#### Program Console Sample 1:\n",
    "##### Enter a number: 15\n",
    "###### Sum of 1 + 5 is 6\n",
    "#### Program Console Sample 2:\n",
    "##### Enter a number: 1234\n",
    "###### Sum of 1 + 2 + 3 + 4 is 10"
   ]
  },
  {
   "cell_type": "code",
   "execution_count": 21,
   "metadata": {},
   "outputs": [
    {
     "name": "stdout",
     "output_type": "stream",
     "text": [
      "Enter a number: 1234\n",
      "10\n"
     ]
    }
   ],
   "source": [
    "number = input(\"Enter a number: \")\n",
    "sum = 0\n",
    "for i in number:\n",
    "    sum += int(i)\n",
    "print(f'Sum = {sum}')"
   ]
  }
 ],
 "metadata": {
  "kernelspec": {
   "display_name": "Python 3",
   "language": "python",
   "name": "python3"
  },
  "language_info": {
   "codemirror_mode": {
    "name": "ipython",
    "version": 3
   },
   "file_extension": ".py",
   "mimetype": "text/x-python",
   "name": "python",
   "nbconvert_exporter": "python",
   "pygments_lexer": "ipython3",
   "version": "3.7.3"
  }
 },
 "nbformat": 4,
 "nbformat_minor": 2
}
